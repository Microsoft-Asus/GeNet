{
 "cells": [
  {
   "cell_type": "code",
   "execution_count": 89,
   "metadata": {
    "collapsed": true
   },
   "outputs": [],
   "source": [
    "import os\n",
    "import pandas as pd\n",
    "import numpy as np\n",
    "import re"
   ]
  },
  {
   "cell_type": "code",
   "execution_count": 90,
   "metadata": {
    "collapsed": false
   },
   "outputs": [],
   "source": [
    "artist_dirs = [x + \"/\" for x in os.listdir('.')[2:] if not '.py' in x and not '.ipynb' in x and not '.csv' in x and not '.torch' in x and not 'rg_data' in x] "
   ]
  },
  {
   "cell_type": "code",
   "execution_count": 91,
   "metadata": {
    "collapsed": false
   },
   "outputs": [],
   "source": [
    "lfiles = []\n",
    "\n",
    "for data_dir in artist_dirs:\n",
    "    for filename in os.listdir(data_dir):\n",
    "        if '.csv' in filename:\n",
    "            lfiles.append(data_dir + filename)"
   ]
  },
  {
   "cell_type": "code",
   "execution_count": 92,
   "metadata": {
    "collapsed": false,
    "scrolled": false
   },
   "outputs": [
    {
     "data": {
      "text/plain": [
       "21538"
      ]
     },
     "execution_count": 92,
     "metadata": {},
     "output_type": "execute_result"
    }
   ],
   "source": [
    "len(lfiles)"
   ]
  },
  {
   "cell_type": "code",
   "execution_count": 42,
   "metadata": {
    "collapsed": false
   },
   "outputs": [
    {
     "data": {
      "text/plain": [
       "'Young-buck/{Nada_Here}_by_Ca$his__Ft_Project_Pat_&_Sullee_J_prod_by_Tha_Punisher_&_Rikanatti_LYRICS.txt'"
      ]
     },
     "execution_count": 42,
     "metadata": {},
     "output_type": "execute_result"
    }
   ],
   "source": [
    "lfiles[-1]"
   ]
  },
  {
   "cell_type": "code",
   "execution_count": 33,
   "metadata": {
    "collapsed": false
   },
   "outputs": [],
   "source": [
    "all_text = \"\"\n",
    "\n",
    "for filename in lfiles:\n",
    "    all_text += open(filename, 'r').read()"
   ]
  },
  {
   "cell_type": "code",
   "execution_count": 39,
   "metadata": {
    "collapsed": true
   },
   "outputs": [],
   "source": [
    "with open('ALL/input.txt', 'w') as f:\n",
    "    f.write(all_text)"
   ]
  },
  {
   "cell_type": "code",
   "execution_count": 40,
   "metadata": {
    "collapsed": false
   },
   "outputs": [
    {
     "data": {
      "text/plain": [
       "67946178"
      ]
     },
     "execution_count": 40,
     "metadata": {},
     "output_type": "execute_result"
    }
   ],
   "source": [
    "len(all_text)"
   ]
  },
  {
   "cell_type": "code",
   "execution_count": 93,
   "metadata": {
    "collapsed": false
   },
   "outputs": [],
   "source": [
    "full_dat = []\n",
    "for filename in lfiles:\n",
    "    try:\n",
    "        full_dat.append(pd.read_csv(filename, delimiter='|'))\n",
    "    except:\n",
    "        print \"failed on file \" + filename"
   ]
  },
  {
   "cell_type": "code",
   "execution_count": 94,
   "metadata": {
    "collapsed": false
   },
   "outputs": [],
   "source": [
    "train_dat = pd.concat(full_dat)"
   ]
  },
  {
   "cell_type": "code",
   "execution_count": 95,
   "metadata": {
    "collapsed": false,
    "scrolled": true
   },
   "outputs": [
    {
     "data": {
      "text/plain": [
       "(363968, 2)"
      ]
     },
     "execution_count": 95,
     "metadata": {},
     "output_type": "execute_result"
    }
   ],
   "source": [
    "train_dat.shape"
   ]
  },
  {
   "cell_type": "code",
   "execution_count": 96,
   "metadata": {
    "collapsed": false
   },
   "outputs": [],
   "source": [
    "train_dat.index = range(len(train_dat.index))"
   ]
  },
  {
   "cell_type": "code",
   "execution_count": 97,
   "metadata": {
    "collapsed": false,
    "scrolled": true
   },
   "outputs": [
    {
     "data": {
      "text/plain": [
       "12621382"
      ]
     },
     "execution_count": 97,
     "metadata": {},
     "output_type": "execute_result"
    }
   ],
   "source": [
    "np.sum([len(str(x).split(' ')) for x in train_dat['Ref']])"
   ]
  },
  {
   "cell_type": "code",
   "execution_count": 98,
   "metadata": {
    "collapsed": false,
    "scrolled": true
   },
   "outputs": [
    {
     "data": {
      "text/plain": [
       "4622533"
      ]
     },
     "execution_count": 98,
     "metadata": {},
     "output_type": "execute_result"
    }
   ],
   "source": [
    "np.sum([len(str(x).split(' ')) for x in train_dat['Lyric']])"
   ]
  },
  {
   "cell_type": "code",
   "execution_count": 99,
   "metadata": {
    "collapsed": false,
    "scrolled": true
   },
   "outputs": [],
   "source": [
    "train_dat[\"l_words\"] = train_dat.apply(lambda row: len(str(row['Lyric']).split(' ')), axis=1)"
   ]
  },
  {
   "cell_type": "code",
   "execution_count": 100,
   "metadata": {
    "collapsed": true
   },
   "outputs": [],
   "source": [
    "train_dat['r_words'] = train_dat.apply(lambda row: len(str(row['Ref']).split(' ')), axis=1)"
   ]
  },
  {
   "cell_type": "code",
   "execution_count": 102,
   "metadata": {
    "collapsed": false
   },
   "outputs": [],
   "source": [
    "train_dat['Ref'] = train_dat.apply(lambda x: re.sub(r\"(?:\\@|h?H?ttps?\\://)\\S+\", \"<URL>\", str(x['Ref']), flags=re.MULTILINE), axis=1)"
   ]
  },
  {
   "cell_type": "code",
   "execution_count": 103,
   "metadata": {
    "collapsed": true
   },
   "outputs": [],
   "source": [
    "train_dat['Lyric'] = train_dat.apply(lambda x: re.sub(r\"(?:\\@|h?H?ttps?\\://)\\S+\", \"<URL>\", str(x['Lyric']), flags=re.MULTILINE), axis=1)"
   ]
  },
  {
   "cell_type": "code",
   "execution_count": 105,
   "metadata": {
    "collapsed": false
   },
   "outputs": [
    {
     "data": {
      "text/plain": [
       "(284265, 4)"
      ]
     },
     "execution_count": 105,
     "metadata": {},
     "output_type": "execute_result"
    }
   ],
   "source": [
    "train_dat_short = train_dat.loc[train_dat['r_words'] <= 50].loc[train_dat['l_words'] <= 40]\n",
    "train_dat_short.shape"
   ]
  },
  {
   "cell_type": "code",
   "execution_count": 107,
   "metadata": {
    "collapsed": false
   },
   "outputs": [
    {
     "data": {
      "text/html": [
       "<div>\n",
       "<table border=\"1\" class=\"dataframe\">\n",
       "  <thead>\n",
       "    <tr style=\"text-align: right;\">\n",
       "      <th></th>\n",
       "      <th>Lyric</th>\n",
       "      <th>Ref</th>\n",
       "      <th>l_words</th>\n",
       "      <th>r_words</th>\n",
       "    </tr>\n",
       "  </thead>\n",
       "  <tbody>\n",
       "    <tr>\n",
       "      <th>1</th>\n",
       "      <td>You not like me</td>\n",
       "      <td>A callback to 50s U Not Like Me which featured...</td>\n",
       "      <td>4</td>\n",
       "      <td>16</td>\n",
       "    </tr>\n",
       "    <tr>\n",
       "      <th>2</th>\n",
       "      <td>Dr. Dre &amp; Snoop's \"Deep Cover\"</td>\n",
       "      <td>&lt;URL&gt;</td>\n",
       "      <td>6</td>\n",
       "      <td>1</td>\n",
       "    </tr>\n",
       "    <tr>\n",
       "      <th>3</th>\n",
       "      <td>G-G-G-G-G-G-Unit!</td>\n",
       "      <td>The famous saying &lt;URL&gt;</td>\n",
       "      <td>1</td>\n",
       "      <td>4</td>\n",
       "    </tr>\n",
       "    <tr>\n",
       "      <th>4</th>\n",
       "      <td>I do a 187 on your motherfuckin block</td>\n",
       "      <td>187 is a slang term for the crime of murder; i...</td>\n",
       "      <td>8</td>\n",
       "      <td>31</td>\n",
       "    </tr>\n",
       "    <tr>\n",
       "      <th>5</th>\n",
       "      <td>They say good things should happen to those wh...</td>\n",
       "      <td>Patience welcomes positivity into the lives of...</td>\n",
       "      <td>19</td>\n",
       "      <td>33</td>\n",
       "    </tr>\n",
       "  </tbody>\n",
       "</table>\n",
       "</div>"
      ],
      "text/plain": [
       "                                               Lyric  \\\n",
       "1                                    You not like me   \n",
       "2                     Dr. Dre & Snoop's \"Deep Cover\"   \n",
       "3                                  G-G-G-G-G-G-Unit!   \n",
       "4              I do a 187 on your motherfuckin block   \n",
       "5  They say good things should happen to those wh...   \n",
       "\n",
       "                                                 Ref  l_words  r_words  \n",
       "1  A callback to 50s U Not Like Me which featured...        4       16  \n",
       "2                                              <URL>        6        1  \n",
       "3                            The famous saying <URL>        1        4  \n",
       "4  187 is a slang term for the crime of murder; i...        8       31  \n",
       "5  Patience welcomes positivity into the lives of...       19       33  "
      ]
     },
     "execution_count": 107,
     "metadata": {},
     "output_type": "execute_result"
    }
   ],
   "source": [
    "train_dat_short.head()"
   ]
  },
  {
   "cell_type": "code",
   "execution_count": 108,
   "metadata": {
    "collapsed": true
   },
   "outputs": [],
   "source": [
    "import string\n",
    "\n",
    "valid_chars = string.letters + string.digits + \"\\n\" + \" \" + \".\"\n",
    "\n",
    "def valid_str(x):\n",
    "    text_filt = \"\"\n",
    "\n",
    "    for char in x:\n",
    "        if char in valid_chars:            \n",
    "            text_filt += char\n",
    "        \n",
    "    return text_filt.replace('50', 'fifty').replace('.', ' . ').replace('&',' and ').lower()"
   ]
  },
  {
   "cell_type": "code",
   "execution_count": 109,
   "metadata": {
    "collapsed": false,
    "scrolled": true
   },
   "outputs": [],
   "source": [
    "train_dat_short[\"Lyric\"] = train_dat_short[\"Lyric\"].apply(lambda x: valid_str(x))"
   ]
  },
  {
   "cell_type": "code",
   "execution_count": 110,
   "metadata": {
    "collapsed": true
   },
   "outputs": [],
   "source": [
    "train_dat_short[\"Ref\"] = train_dat_short[\"Ref\"].apply(lambda x: valid_str(x))"
   ]
  },
  {
   "cell_type": "code",
   "execution_count": 122,
   "metadata": {
    "collapsed": false
   },
   "outputs": [],
   "source": [
    "full_size = train_dat_short.shape[0]\n",
    "val_size = int(full_size // 5.0)\n",
    "train_size = int(full_size - val_size)\n",
    "\n",
    "# Shuffle\n",
    "train_dat_short = train_dat_short.iloc[np.random.permutation(full_size)]\n",
    "\n",
    "train_dat_short_part = train_dat_short[:train_size]\n",
    "val_dat_short = train_dat_short[-val_size:]"
   ]
  },
  {
   "cell_type": "code",
   "execution_count": 125,
   "metadata": {
    "collapsed": false
   },
   "outputs": [
    {
     "data": {
      "text/plain": [
       "(227412, 4)"
      ]
     },
     "execution_count": 125,
     "metadata": {},
     "output_type": "execute_result"
    }
   ],
   "source": [
    "train_dat_short_part.shape"
   ]
  },
  {
   "cell_type": "code",
   "execution_count": 126,
   "metadata": {
    "collapsed": false
   },
   "outputs": [
    {
     "data": {
      "text/plain": [
       "(56853, 4)"
      ]
     },
     "execution_count": 126,
     "metadata": {},
     "output_type": "execute_result"
    }
   ],
   "source": [
    "val_dat_short.shape"
   ]
  },
  {
   "cell_type": "code",
   "execution_count": 127,
   "metadata": {
    "collapsed": true
   },
   "outputs": [],
   "source": [
    "train_dat_short_part['Lyric'].to_csv('rg_lyrics_train.csv', index=False)\n",
    "train_dat_short_part['Ref'].to_csv('rg_references_train.csv', index=False)\n",
    "\n",
    "val_dat_short['Lyric'].to_csv('rg_lyrics_val.csv', index=False)\n",
    "val_dat_short['Ref'].to_csv('rg_references_val.csv', index=False)"
   ]
  },
  {
   "cell_type": "code",
   "execution_count": 210,
   "metadata": {
    "collapsed": false
   },
   "outputs": [],
   "source": [
    "ref_words = [sentence.split(' ') for sentence in train_dat_short[\"Ref\"]]\n",
    "lyric_words = [sentence.split(' ') for sentence in train_dat_short[\"Lyric\"]]"
   ]
  },
  {
   "cell_type": "code",
   "execution_count": 211,
   "metadata": {
    "collapsed": false
   },
   "outputs": [],
   "source": [
    "ref_words = np.array(ref_words).flatten()\n",
    "lyric_words = np.array(lyric_words).flatten()"
   ]
  },
  {
   "cell_type": "code",
   "execution_count": 213,
   "metadata": {
    "collapsed": false
   },
   "outputs": [
    {
     "data": {
      "text/plain": [
       "(171290,)"
      ]
     },
     "execution_count": 213,
     "metadata": {},
     "output_type": "execute_result"
    }
   ],
   "source": [
    "np.unique(ref_words).shape"
   ]
  },
  {
   "cell_type": "code",
   "execution_count": null,
   "metadata": {
    "collapsed": false
   },
   "outputs": [],
   "source": [
    "np.hstack(ref_words[0:5])"
   ]
  },
  {
   "cell_type": "code",
   "execution_count": 194,
   "metadata": {
    "collapsed": false
   },
   "outputs": [
    {
     "data": {
      "text/plain": [
       "251724"
      ]
     },
     "execution_count": 194,
     "metadata": {},
     "output_type": "execute_result"
    }
   ],
   "source": [
    "np.sum(train_dat['l_words'] >= 1)"
   ]
  },
  {
   "cell_type": "code",
   "execution_count": 177,
   "metadata": {
    "collapsed": false
   },
   "outputs": [
    {
     "data": {
      "text/plain": [
       "2034150"
      ]
     },
     "execution_count": 177,
     "metadata": {},
     "output_type": "execute_result"
    }
   ],
   "source": [
    "train_dat_short['l_words'].sum()"
   ]
  },
  {
   "cell_type": "code",
   "execution_count": 168,
   "metadata": {
    "collapsed": false
   },
   "outputs": [
    {
     "data": {
      "text/plain": [
       "(251724, 4)"
      ]
     },
     "execution_count": 168,
     "metadata": {},
     "output_type": "execute_result"
    }
   ],
   "source": [
    "train_dat.shape"
   ]
  },
  {
   "cell_type": "code",
   "execution_count": 167,
   "metadata": {
    "collapsed": true
   },
   "outputs": [],
   "source": [
    "%matplotlib inline"
   ]
  },
  {
   "cell_type": "code",
   "execution_count": 164,
   "metadata": {
    "collapsed": false
   },
   "outputs": [
    {
     "data": {
      "text/plain": [
       "(0, 100)"
      ]
     },
     "execution_count": 164,
     "metadata": {},
     "output_type": "execute_result"
    },
    {
     "data": {
      "text/plain": [
       "<matplotlib.figure.Figure at 0x11f756650>"
      ]
     },
     "metadata": {},
     "output_type": "display_data"
    },
    {
     "data": {
      "image/png": "[encoded data removed]",
      "text/plain": [
       "<matplotlib.figure.Figure at 0x1195463d0>"
      ]
     },
     "metadata": {},
     "output_type": "display_data"
    }
   ],
   "source": [
    "import pylab as plt\n",
    "plt.figure()\n",
    "train_dat.plot.hist(alpha=0.5, bins=5000)\n",
    "plt.xlim([0,100])"
   ]
  },
  {
   "cell_type": "code",
   "execution_count": 117,
   "metadata": {
    "collapsed": false,
    "scrolled": true
   },
   "outputs": [
    {
     "name": "stdout",
     "output_type": "stream",
     "text": [
      "An interview with art director for GRODT; Julian Alexander  What was 50s original vision for the cover?  Julian Alexander: He wanted to have shattered glass. And I kind of envisioned it as a doorway  a shattered full glass door. And what you would see was a bullet hole in the glass and you would see his hand leaning on the glass. His posture would be kind of kneeling over  like hes leaning on the glass for support. So youd see this bullet hole, a shattered glass with a hand on it and there was gonna be blood drippin down from his hand. You wouldnt see his face, but you would see a slumped figure and blood on the hand. You would read that this person had been shot, but theyre still standing.    So how did it change from that initial idea to what the Get Rich Or Die Tryin cover eventually ended up being?   Julian Alexander: Well, I went home and put together a creative brief based on what he wanted. [And I thought], how are we going to tell this whole story? I felt that [the original] cover [concept], while its very sophisticated, only represented the Die Tryin part of the title. It didnt represent the Get Rich at all. So I thought How are we gonna bring some sort of balance?  I spoke to 50 and Nicole Frantz and suggested Lets keep the shattered glass, but lets switch it up a little bit.  What we ended up with for the album cover I feel represents [the fuller story]. Hes standing up, hes standing strong behind that shattered glass. Almost as if hes kind of bullet proof. Like hes kind of bounced back. And when you look at the center of the bullet hole, you see [that hes wearing] this diamond cross. Hes got this Gucci holster on and diamond belt buckle. So to me that part represents Get Rich.       What do you remember about 50s demeanor during the shoot?  Julian Alexander: I think he was just eager to do it. Physically before this album shoot, 50 was a bigger person. He wasnt cut up. I remember the first time I saw him after he had been shot, he came to Sony and was like, Yeah man, the dudes who shot me they put me on Super Slim Fast. [laughs] He lifted up his shirt to show me how he had been workin out. Because he was just eager to get [his] body [in shape]. It was something he chose to do for himself, but he was eager to show it off. And he just envisioned [success] comin for him. And [this was part of how] he prepared himself for it. You always got the sense that this was a moment for him, yknow what I mean? And he was not lettin it pass.    Okay, so youre at the photoshoot and you started off [shooting] these portraits behind the glass. Was the glass really there?      Julian Alexander: When we planned on doing this, I spoke with [the prop stylist] and I said, Look we are gonna shoot this cover behind glass and I dont know how youre gonna do it but I need you to shoot a piece of glass   Hes like, I can do it! and said that he could simulate a shattered glass effect with plexiglass. He could drill a hole and crack it in a way where it could look like a bullet had been shot through real glass.  You sure its gonna work? I said.   And hes like, Yeah its gonna work, I promise.   Aight. So we get to the shoot and the first thing that I wanna see is the plexiglass and it looks like [a sheet of] plexiglass with a drilled hole in it.  He tried. Its not like it was just some throwaway thing and he didnt put effort into it, but it wasnt what it needed to be. So I said, Look, you gotta go shoot the glass. So he left. How he shot that glass was a mystery to all of us. If I remember correctly, he went to a gun range. He may have used a friends gun, but it definitely wasnt provided by 50 or anyone else that was on set. When he came back with the glass, we didnt have much time to discuss it because we were shooting, I was just happy that he got it done.     He brought back the glass, Sacha put it in front of the camera, and he photographed 50 through the shattered glass. We also shot the glass separately, we shot 50 separately. And the image ended up being a composite of all these things. If you look in the center areas, youll see parts where you see 50s skin, you see him and its a little blurred through the glass.  Source\n",
      "A callback to 50s U Not Like Me which featured on Get Rich Or Die Tryin'.\n",
      "https://www.youtube.com/watch?v=-SXr6aUFP8U\n",
      "The famous saying https://www.youtube.com/watch?v=LIsiLCM4G74\n",
      "187 is a slang term for the crime of murder; it refers to Section 187 of the California Penal Code, which defines the crime of murder as homicide with malice aforethought.\n",
      "Patience welcomes positivity into the lives of those who practice it. This wasnt the case for Yayo as he practiced patience without getting anything in return except for a life of drug dealing.\n",
      "when rappers want to get a verse from another to put on the track they send the beat and hook to said rapper then that rapper lays down a verse and sends it back  also notice the a pun on the word flying\n"
     ]
    }
   ],
   "source": [
    "drop_rows = []\n",
    "\n",
    "def valid_row(row):\n",
    "    if \"http\" in row[1]['Ref']:\n",
    "        return False\n",
    "    \n",
    "\n",
    "for row in train_dat.iterrows():\n",
    "    if not valid_row(row):\n",
    "        drop_rows.append(row[0])\n",
    "    \n",
    "    if row[0] > 5:\n",
    "        break"
   ]
  },
  {
   "cell_type": "code",
   "execution_count": 179,
   "metadata": {
    "collapsed": false
   },
   "outputs": [
    {
     "data": {
      "text/html": [
       "<div>\n",
       "<table border=\"1\" class=\"dataframe\">\n",
       "  <thead>\n",
       "    <tr style=\"text-align: right;\">\n",
       "      <th></th>\n",
       "      <th>Lyric</th>\n",
       "      <th>Ref</th>\n",
       "      <th>l_words</th>\n",
       "      <th>r_words</th>\n",
       "    </tr>\n",
       "  </thead>\n",
       "  <tbody>\n",
       "    <tr>\n",
       "      <th>1</th>\n",
       "      <td>You not like me</td>\n",
       "      <td>A callback to 50s U Not Like Me which featured...</td>\n",
       "      <td>4</td>\n",
       "      <td>16</td>\n",
       "    </tr>\n",
       "    <tr>\n",
       "      <th>2</th>\n",
       "      <td>Dr. Dre &amp; Snoop's \"Deep Cover\"</td>\n",
       "      <td>&lt;URL&gt;</td>\n",
       "      <td>6</td>\n",
       "      <td>1</td>\n",
       "    </tr>\n",
       "    <tr>\n",
       "      <th>3</th>\n",
       "      <td>G-G-G-G-G-G-Unit!</td>\n",
       "      <td>The famous saying &lt;URL&gt;</td>\n",
       "      <td>1</td>\n",
       "      <td>4</td>\n",
       "    </tr>\n",
       "    <tr>\n",
       "      <th>4</th>\n",
       "      <td>I do a 187 on your motherfuckin block</td>\n",
       "      <td>187 is a slang term for the crime of murder; i...</td>\n",
       "      <td>8</td>\n",
       "      <td>31</td>\n",
       "    </tr>\n",
       "    <tr>\n",
       "      <th>5</th>\n",
       "      <td>They say good things should happen to those wh...</td>\n",
       "      <td>Patience welcomes positivity into the lives of...</td>\n",
       "      <td>19</td>\n",
       "      <td>33</td>\n",
       "    </tr>\n",
       "    <tr>\n",
       "      <th>6</th>\n",
       "      <td>I'm on first class flights, with flyin cooks C...</td>\n",
       "      <td>when rappers want to get a verse from another ...</td>\n",
       "      <td>18</td>\n",
       "      <td>44</td>\n",
       "    </tr>\n",
       "    <tr>\n",
       "      <th>7</th>\n",
       "      <td>I'm the first one out, and last one on the cor...</td>\n",
       "      <td>Death could be around the corner for any man. ...</td>\n",
       "      <td>22</td>\n",
       "      <td>26</td>\n",
       "    </tr>\n",
       "    <tr>\n",
       "      <th>8</th>\n",
       "      <td>P89 Ruger with the silencer</td>\n",
       "      <td>The Ruger P89 is a model in the Ruger P series...</td>\n",
       "      <td>5</td>\n",
       "      <td>45</td>\n",
       "    </tr>\n",
       "    <tr>\n",
       "      <th>9</th>\n",
       "      <td>Let off a clip it sound like spitballs goin th...</td>\n",
       "      <td>A spitball is a scrunched up piece of paper wh...</td>\n",
       "      <td>11</td>\n",
       "      <td>47</td>\n",
       "    </tr>\n",
       "    <tr>\n",
       "      <th>10</th>\n",
       "      <td>These rappers is talkin 'bout bricks in they r...</td>\n",
       "      <td>Reference to a line from 50 Cents Lifes On The...</td>\n",
       "      <td>18</td>\n",
       "      <td>11</td>\n",
       "    </tr>\n",
       "    <tr>\n",
       "      <th>11</th>\n",
       "      <td>So on the first I get mo' checks than Nike Town</td>\n",
       "      <td>Nike has a swoosh logo, or a check on each sho...</td>\n",
       "      <td>11</td>\n",
       "      <td>32</td>\n",
       "    </tr>\n",
       "    <tr>\n",
       "      <th>13</th>\n",
       "      <td>Fill your ass up with led turn yo' ass to a pe...</td>\n",
       "      <td>Big L also used a similar line on 'Da Graveyar...</td>\n",
       "      <td>12</td>\n",
       "      <td>25</td>\n",
       "    </tr>\n",
       "    <tr>\n",
       "      <th>14</th>\n",
       "      <td>I had you on the run like Omar on \"The Wire\"</td>\n",
       "      <td>*Omar Devone Little is a fictional character o...</td>\n",
       "      <td>11</td>\n",
       "      <td>30</td>\n",
       "    </tr>\n",
       "    <tr>\n",
       "      <th>15</th>\n",
       "      <td>His bathroom's so far you gotta piss in a bottle</td>\n",
       "      <td>The house is So Big that you might need a G4 j...</td>\n",
       "      <td>10</td>\n",
       "      <td>27</td>\n",
       "    </tr>\n",
       "    <tr>\n",
       "      <th>16</th>\n",
       "      <td>And my new four-fifth'll cause a hollow-tip diet</td>\n",
       "      <td>The hollow-tip bullets from Yayos .45 caliber ...</td>\n",
       "      <td>8</td>\n",
       "      <td>15</td>\n",
       "    </tr>\n",
       "    <tr>\n",
       "      <th>17</th>\n",
       "      <td>I'm the type to tie up your lady, and gun butt...</td>\n",
       "      <td>Yayo is willing to hold his enemies' families ...</td>\n",
       "      <td>22</td>\n",
       "      <td>21</td>\n",
       "    </tr>\n",
       "    <tr>\n",
       "      <th>18</th>\n",
       "      <td>[Produced by Dirty Swift]</td>\n",
       "      <td>The riff on this track is sampled from Its Onl...</td>\n",
       "      <td>4</td>\n",
       "      <td>20</td>\n",
       "    </tr>\n",
       "    <tr>\n",
       "      <th>19</th>\n",
       "      <td>I just want to chill and twist the lye</td>\n",
       "      <td>Lye is slang for weed. What better way to rela...</td>\n",
       "      <td>9</td>\n",
       "      <td>25</td>\n",
       "    </tr>\n",
       "    <tr>\n",
       "      <th>22</th>\n",
       "      <td>Girl, it's easy to love me now  Would you love...</td>\n",
       "      <td>The hook nicely summarizes the question the so...</td>\n",
       "      <td>26</td>\n",
       "      <td>23</td>\n",
       "    </tr>\n",
       "    <tr>\n",
       "      <th>23</th>\n",
       "      <td>If I fell off tomorrow would you still love me?</td>\n",
       "      <td>50 is being cheeky with the first question, be...</td>\n",
       "      <td>10</td>\n",
       "      <td>23</td>\n",
       "    </tr>\n",
       "    <tr>\n",
       "      <th>24</th>\n",
       "      <td>If I didn't smell so good would you still hug me?</td>\n",
       "      <td>50 has his own fragrance, so there is no way h...</td>\n",
       "      <td>11</td>\n",
       "      <td>24</td>\n",
       "    </tr>\n",
       "    <tr>\n",
       "      <th>26</th>\n",
       "      <td>If I went back to a hoopty from a Benz  Would ...</td>\n",
       "      <td>Going from this:    Back to this:    50 knows ...</td>\n",
       "      <td>21</td>\n",
       "      <td>42</td>\n",
       "    </tr>\n",
       "    <tr>\n",
       "      <th>27</th>\n",
       "      <td>If I was hit and I was hurt would you be by my...</td>\n",
       "      <td>50 took 9 bullets and lived, so this line is n...</td>\n",
       "      <td>14</td>\n",
       "      <td>24</td>\n",
       "    </tr>\n",
       "    <tr>\n",
       "      <th>28</th>\n",
       "      <td>If it was time to put in work would you be dow...</td>\n",
       "      <td>50 needs his girl to be down to ride (willing ...</td>\n",
       "      <td>14</td>\n",
       "      <td>25</td>\n",
       "    </tr>\n",
       "    <tr>\n",
       "      <th>29</th>\n",
       "      <td>I get out and peel a nigga cap, chill and driv...</td>\n",
       "      <td>To peel someones cap means to shoot them in th...</td>\n",
       "      <td>22</td>\n",
       "      <td>43</td>\n",
       "    </tr>\n",
       "    <tr>\n",
       "      <th>30</th>\n",
       "      <td>If I ain't rap cause I flip burgers at Burger ...</td>\n",
       "      <td>Referring to 50s hypothetical career making Wh...</td>\n",
       "      <td>23</td>\n",
       "      <td>24</td>\n",
       "    </tr>\n",
       "    <tr>\n",
       "      <th>31</th>\n",
       "      <td>If I wrote you a love letter would you write b...</td>\n",
       "      <td>Being the lyrical person he is, C. Jackson has...</td>\n",
       "      <td>11</td>\n",
       "      <td>36</td>\n",
       "    </tr>\n",
       "    <tr>\n",
       "      <th>32</th>\n",
       "      <td>Now we can have a little drink, you know, a ni...</td>\n",
       "      <td>A nightcap is what you call that last alcoholi...</td>\n",
       "      <td>11</td>\n",
       "      <td>32</td>\n",
       "    </tr>\n",
       "    <tr>\n",
       "      <th>33</th>\n",
       "      <td>Now would you leave me if your father found ou...</td>\n",
       "      <td>Fathers are typically over-protective of their...</td>\n",
       "      <td>13</td>\n",
       "      <td>49</td>\n",
       "    </tr>\n",
       "    <tr>\n",
       "      <th>34</th>\n",
       "      <td>Do you believe me when I tell you you the one ...</td>\n",
       "      <td>Due to their lifestyles and documented pasts, ...</td>\n",
       "      <td>13</td>\n",
       "      <td>27</td>\n",
       "    </tr>\n",
       "    <tr>\n",
       "      <th>...</th>\n",
       "      <td>...</td>\n",
       "      <td>...</td>\n",
       "      <td>...</td>\n",
       "      <td>...</td>\n",
       "    </tr>\n",
       "    <tr>\n",
       "      <th>84</th>\n",
       "      <td>Theme song: \"All Eyez on Me,\" 2Pac</td>\n",
       "      <td>His favorite song was the title track from Tup...</td>\n",
       "      <td>7</td>\n",
       "      <td>14</td>\n",
       "    </tr>\n",
       "    <tr>\n",
       "      <th>85</th>\n",
       "      <td>He on the same bullshit that sent Gotti up north</td>\n",
       "      <td>John Gotti was convicted of five murders, cons...</td>\n",
       "      <td>10</td>\n",
       "      <td>22</td>\n",
       "    </tr>\n",
       "    <tr>\n",
       "      <th>86</th>\n",
       "      <td>Blue GS,</td>\n",
       "      <td>Lexus GS  which stands for Grand Sedan.</td>\n",
       "      <td>2</td>\n",
       "      <td>8</td>\n",
       "    </tr>\n",
       "    <tr>\n",
       "      <th>87</th>\n",
       "      <td>Stuntin like he Nicky Barnes  He broke but he ...</td>\n",
       "      <td>The significance of this line was portrayed in...</td>\n",
       "      <td>15</td>\n",
       "      <td>40</td>\n",
       "    </tr>\n",
       "    <tr>\n",
       "      <th>88</th>\n",
       "      <td>Kill a nigga quick remind me of Haitian Jack</td>\n",
       "      <td>Haitian Jack is a street legend. On the pictur...</td>\n",
       "      <td>9</td>\n",
       "      <td>15</td>\n",
       "    </tr>\n",
       "    <tr>\n",
       "      <th>90</th>\n",
       "      <td>Banks hopped out, bulletproof this, bulletproo...</td>\n",
       "      <td>This is a Ghostface reference, as on Ghostface...</td>\n",
       "      <td>12</td>\n",
       "      <td>21</td>\n",
       "    </tr>\n",
       "    <tr>\n",
       "      <th>91</th>\n",
       "      <td>Southside</td>\n",
       "      <td>Tribute to the hood he grew up in, Southside J...</td>\n",
       "      <td>1</td>\n",
       "      <td>20</td>\n",
       "    </tr>\n",
       "    <tr>\n",
       "      <th>93</th>\n",
       "      <td>G-Unit</td>\n",
       "      <td>On his lower back is an ode to 50s group/label...</td>\n",
       "      <td>1</td>\n",
       "      <td>13</td>\n",
       "    </tr>\n",
       "    <tr>\n",
       "      <th>94</th>\n",
       "      <td>Beau</td>\n",
       "      <td>On the left side of his neck he has the name B...</td>\n",
       "      <td>1</td>\n",
       "      <td>38</td>\n",
       "    </tr>\n",
       "    <tr>\n",
       "      <th>95</th>\n",
       "      <td>Love &amp; Hate</td>\n",
       "      <td>Love and Hate can be found Across the stomach ...</td>\n",
       "      <td>3</td>\n",
       "      <td>46</td>\n",
       "    </tr>\n",
       "    <tr>\n",
       "      <th>96</th>\n",
       "      <td>Marquise</td>\n",
       "      <td>His sons name written vertically down his bice...</td>\n",
       "      <td>1</td>\n",
       "      <td>18</td>\n",
       "    </tr>\n",
       "    <tr>\n",
       "      <th>98</th>\n",
       "      <td>Shield</td>\n",
       "      <td>On this side it looks as though he has a shiel...</td>\n",
       "      <td>1</td>\n",
       "      <td>49</td>\n",
       "    </tr>\n",
       "    <tr>\n",
       "      <th>100</th>\n",
       "      <td>Cross</td>\n",
       "      <td>A cross along with the words, God Understands ...</td>\n",
       "      <td>1</td>\n",
       "      <td>46</td>\n",
       "    </tr>\n",
       "    <tr>\n",
       "      <th>101</th>\n",
       "      <td>G-Unit</td>\n",
       "      <td>A tribute to his former hip-hop group and reco...</td>\n",
       "      <td>1</td>\n",
       "      <td>44</td>\n",
       "    </tr>\n",
       "    <tr>\n",
       "      <th>102</th>\n",
       "      <td>Diddy, Rick Ross and former record exec Steve</td>\n",
       "      <td>nan</td>\n",
       "      <td>8</td>\n",
       "      <td>1</td>\n",
       "    </tr>\n",
       "    <tr>\n",
       "      <th>103</th>\n",
       "      <td>Yeah, I done smoked a couple pounds, but I ain...</td>\n",
       "      <td>Here 50 pokes fun at one of Bill Clintons stat...</td>\n",
       "      <td>12</td>\n",
       "      <td>50</td>\n",
       "    </tr>\n",
       "    <tr>\n",
       "      <th>105</th>\n",
       "      <td>My main aim's to take away pain It's okay, get...</td>\n",
       "      <td>Whats the best way to take away the pain? Get ...</td>\n",
       "      <td>13</td>\n",
       "      <td>11</td>\n",
       "    </tr>\n",
       "    <tr>\n",
       "      <th>106</th>\n",
       "      <td>Got that purple, roll that shit</td>\n",
       "      <td>Purple haze is a strain of cannabis known for ...</td>\n",
       "      <td>6</td>\n",
       "      <td>15</td>\n",
       "    </tr>\n",
       "    <tr>\n",
       "      <th>107</th>\n",
       "      <td>Got the Hennessy, man, take that sip</td>\n",
       "      <td>World leading cognac with headquarters in Cogn...</td>\n",
       "      <td>7</td>\n",
       "      <td>22</td>\n",
       "    </tr>\n",
       "    <tr>\n",
       "      <th>108</th>\n",
       "      <td>That's the sound of the man, cockin' that than...</td>\n",
       "      <td>A play on the song Chain Gang by Sam Cooke</td>\n",
       "      <td>24</td>\n",
       "      <td>10</td>\n",
       "    </tr>\n",
       "    <tr>\n",
       "      <th>110</th>\n",
       "      <td>If you a pimp like Ken why them hoes don't tre...</td>\n",
       "      <td>Reference to Pimpin' Ken, a notorious pimp. If...</td>\n",
       "      <td>12</td>\n",
       "      <td>35</td>\n",
       "    </tr>\n",
       "    <tr>\n",
       "      <th>111</th>\n",
       "      <td>They say you can never repay the price for tak...</td>\n",
       "      <td>One of the Ten-Commandments is Thou shalt not ...</td>\n",
       "      <td>24</td>\n",
       "      <td>46</td>\n",
       "    </tr>\n",
       "    <tr>\n",
       "      <th>115</th>\n",
       "      <td>Nights like this... I wish Rain drops would fall</td>\n",
       "      <td>Rain, in this case, might signify peacefulness...</td>\n",
       "      <td>9</td>\n",
       "      <td>9</td>\n",
       "    </tr>\n",
       "    <tr>\n",
       "      <th>116</th>\n",
       "      <td>I got a 16 shot Ruger, I got 16 cars</td>\n",
       "      <td>He has, in his possession, a 16-shot Ruger pis...</td>\n",
       "      <td>10</td>\n",
       "      <td>14</td>\n",
       "    </tr>\n",
       "    <tr>\n",
       "      <th>117</th>\n",
       "      <td>All over how I write 16 bars</td>\n",
       "      <td>One Verse in rap music usually contains 16 bar...</td>\n",
       "      <td>7</td>\n",
       "      <td>12</td>\n",
       "    </tr>\n",
       "    <tr>\n",
       "      <th>118</th>\n",
       "      <td>Ja, Joe and Jada they're fuckin' retards</td>\n",
       "      <td>50 is dissing Ja Rule, Fat Joe, and Jadakiss i...</td>\n",
       "      <td>7</td>\n",
       "      <td>23</td>\n",
       "    </tr>\n",
       "    <tr>\n",
       "      <th>119</th>\n",
       "      <td>I'm loadin up my 380</td>\n",
       "      <td>Referring to a .380 ACP (Automatic Colt pistol).</td>\n",
       "      <td>5</td>\n",
       "      <td>8</td>\n",
       "    </tr>\n",
       "    <tr>\n",
       "      <th>120</th>\n",
       "      <td>I'm like look at these donkies Bunch of fuckin...</td>\n",
       "      <td>A shot at all the people 50 was (still is?) be...</td>\n",
       "      <td>10</td>\n",
       "      <td>33</td>\n",
       "    </tr>\n",
       "    <tr>\n",
       "      <th>121</th>\n",
       "      <td>South Side, man</td>\n",
       "      <td>50 Cent grew up in Queens, New York, so he rep...</td>\n",
       "      <td>3</td>\n",
       "      <td>16</td>\n",
       "    </tr>\n",
       "    <tr>\n",
       "      <th>122</th>\n",
       "      <td>You control my senses Baby ooohhh my senses</td>\n",
       "      <td>This mysterious woman has had control of all 5...</td>\n",
       "      <td>8</td>\n",
       "      <td>29</td>\n",
       "    </tr>\n",
       "  </tbody>\n",
       "</table>\n",
       "<p>100 rows × 4 columns</p>\n",
       "</div>"
      ],
      "text/plain": [
       "                                                 Lyric  \\\n",
       "1                                      You not like me   \n",
       "2                       Dr. Dre & Snoop's \"Deep Cover\"   \n",
       "3                                    G-G-G-G-G-G-Unit!   \n",
       "4                I do a 187 on your motherfuckin block   \n",
       "5    They say good things should happen to those wh...   \n",
       "6    I'm on first class flights, with flyin cooks C...   \n",
       "7    I'm the first one out, and last one on the cor...   \n",
       "8                          P89 Ruger with the silencer   \n",
       "9    Let off a clip it sound like spitballs goin th...   \n",
       "10   These rappers is talkin 'bout bricks in they r...   \n",
       "11     So on the first I get mo' checks than Nike Town   \n",
       "13   Fill your ass up with led turn yo' ass to a pe...   \n",
       "14        I had you on the run like Omar on \"The Wire\"   \n",
       "15    His bathroom's so far you gotta piss in a bottle   \n",
       "16    And my new four-fifth'll cause a hollow-tip diet   \n",
       "17   I'm the type to tie up your lady, and gun butt...   \n",
       "18                           [Produced by Dirty Swift]   \n",
       "19              I just want to chill and twist the lye   \n",
       "22   Girl, it's easy to love me now  Would you love...   \n",
       "23     If I fell off tomorrow would you still love me?   \n",
       "24   If I didn't smell so good would you still hug me?   \n",
       "26   If I went back to a hoopty from a Benz  Would ...   \n",
       "27   If I was hit and I was hurt would you be by my...   \n",
       "28   If it was time to put in work would you be dow...   \n",
       "29   I get out and peel a nigga cap, chill and driv...   \n",
       "30   If I ain't rap cause I flip burgers at Burger ...   \n",
       "31   If I wrote you a love letter would you write b...   \n",
       "32   Now we can have a little drink, you know, a ni...   \n",
       "33   Now would you leave me if your father found ou...   \n",
       "34   Do you believe me when I tell you you the one ...   \n",
       "..                                                 ...   \n",
       "84                  Theme song: \"All Eyez on Me,\" 2Pac   \n",
       "85    He on the same bullshit that sent Gotti up north   \n",
       "86                                            Blue GS,   \n",
       "87   Stuntin like he Nicky Barnes  He broke but he ...   \n",
       "88        Kill a nigga quick remind me of Haitian Jack   \n",
       "90   Banks hopped out, bulletproof this, bulletproo...   \n",
       "91                                           Southside   \n",
       "93                                              G-Unit   \n",
       "94                                                Beau   \n",
       "95                                         Love & Hate   \n",
       "96                                            Marquise   \n",
       "98                                              Shield   \n",
       "100                                              Cross   \n",
       "101                                             G-Unit   \n",
       "102      Diddy, Rick Ross and former record exec Steve   \n",
       "103  Yeah, I done smoked a couple pounds, but I ain...   \n",
       "105  My main aim's to take away pain It's okay, get...   \n",
       "106                    Got that purple, roll that shit   \n",
       "107               Got the Hennessy, man, take that sip   \n",
       "108  That's the sound of the man, cockin' that than...   \n",
       "110  If you a pimp like Ken why them hoes don't tre...   \n",
       "111  They say you can never repay the price for tak...   \n",
       "115   Nights like this... I wish Rain drops would fall   \n",
       "116               I got a 16 shot Ruger, I got 16 cars   \n",
       "117                       All over how I write 16 bars   \n",
       "118           Ja, Joe and Jada they're fuckin' retards   \n",
       "119                               I'm loadin up my 380   \n",
       "120  I'm like look at these donkies Bunch of fuckin...   \n",
       "121                                    South Side, man   \n",
       "122        You control my senses Baby ooohhh my senses   \n",
       "\n",
       "                                                   Ref  l_words  r_words  \n",
       "1    A callback to 50s U Not Like Me which featured...        4       16  \n",
       "2                                                <URL>        6        1  \n",
       "3                              The famous saying <URL>        1        4  \n",
       "4    187 is a slang term for the crime of murder; i...        8       31  \n",
       "5    Patience welcomes positivity into the lives of...       19       33  \n",
       "6    when rappers want to get a verse from another ...       18       44  \n",
       "7    Death could be around the corner for any man. ...       22       26  \n",
       "8    The Ruger P89 is a model in the Ruger P series...        5       45  \n",
       "9    A spitball is a scrunched up piece of paper wh...       11       47  \n",
       "10   Reference to a line from 50 Cents Lifes On The...       18       11  \n",
       "11   Nike has a swoosh logo, or a check on each sho...       11       32  \n",
       "13   Big L also used a similar line on 'Da Graveyar...       12       25  \n",
       "14   *Omar Devone Little is a fictional character o...       11       30  \n",
       "15   The house is So Big that you might need a G4 j...       10       27  \n",
       "16   The hollow-tip bullets from Yayos .45 caliber ...        8       15  \n",
       "17   Yayo is willing to hold his enemies' families ...       22       21  \n",
       "18   The riff on this track is sampled from Its Onl...        4       20  \n",
       "19   Lye is slang for weed. What better way to rela...        9       25  \n",
       "22   The hook nicely summarizes the question the so...       26       23  \n",
       "23   50 is being cheeky with the first question, be...       10       23  \n",
       "24   50 has his own fragrance, so there is no way h...       11       24  \n",
       "26   Going from this:    Back to this:    50 knows ...       21       42  \n",
       "27   50 took 9 bullets and lived, so this line is n...       14       24  \n",
       "28   50 needs his girl to be down to ride (willing ...       14       25  \n",
       "29   To peel someones cap means to shoot them in th...       22       43  \n",
       "30   Referring to 50s hypothetical career making Wh...       23       24  \n",
       "31   Being the lyrical person he is, C. Jackson has...       11       36  \n",
       "32   A nightcap is what you call that last alcoholi...       11       32  \n",
       "33   Fathers are typically over-protective of their...       13       49  \n",
       "34   Due to their lifestyles and documented pasts, ...       13       27  \n",
       "..                                                 ...      ...      ...  \n",
       "84   His favorite song was the title track from Tup...        7       14  \n",
       "85   John Gotti was convicted of five murders, cons...       10       22  \n",
       "86             Lexus GS  which stands for Grand Sedan.        2        8  \n",
       "87   The significance of this line was portrayed in...       15       40  \n",
       "88   Haitian Jack is a street legend. On the pictur...        9       15  \n",
       "90   This is a Ghostface reference, as on Ghostface...       12       21  \n",
       "91   Tribute to the hood he grew up in, Southside J...        1       20  \n",
       "93   On his lower back is an ode to 50s group/label...        1       13  \n",
       "94   On the left side of his neck he has the name B...        1       38  \n",
       "95   Love and Hate can be found Across the stomach ...        3       46  \n",
       "96   His sons name written vertically down his bice...        1       18  \n",
       "98   On this side it looks as though he has a shiel...        1       49  \n",
       "100  A cross along with the words, God Understands ...        1       46  \n",
       "101  A tribute to his former hip-hop group and reco...        1       44  \n",
       "102                                                nan        8        1  \n",
       "103  Here 50 pokes fun at one of Bill Clintons stat...       12       50  \n",
       "105  Whats the best way to take away the pain? Get ...       13       11  \n",
       "106  Purple haze is a strain of cannabis known for ...        6       15  \n",
       "107  World leading cognac with headquarters in Cogn...        7       22  \n",
       "108         A play on the song Chain Gang by Sam Cooke       24       10  \n",
       "110  Reference to Pimpin' Ken, a notorious pimp. If...       12       35  \n",
       "111  One of the Ten-Commandments is Thou shalt not ...       24       46  \n",
       "115  Rain, in this case, might signify peacefulness...        9        9  \n",
       "116  He has, in his possession, a 16-shot Ruger pis...       10       14  \n",
       "117  One Verse in rap music usually contains 16 bar...        7       12  \n",
       "118  50 is dissing Ja Rule, Fat Joe, and Jadakiss i...        7       23  \n",
       "119   Referring to a .380 ACP (Automatic Colt pistol).        5        8  \n",
       "120  A shot at all the people 50 was (still is?) be...       10       33  \n",
       "121  50 Cent grew up in Queens, New York, so he rep...        3       16  \n",
       "122  This mysterious woman has had control of all 5...        8       29  \n",
       "\n",
       "[100 rows x 4 columns]"
      ]
     },
     "execution_count": 179,
     "metadata": {},
     "output_type": "execute_result"
    }
   ],
   "source": [
    "train_dat_short.head(100)"
   ]
  },
  {
   "cell_type": "code",
   "execution_count": null,
   "metadata": {
    "collapsed": true
   },
   "outputs": [],
   "source": []
  },
  {
   "cell_type": "code",
   "execution_count": 48,
   "metadata": {
    "collapsed": false
   },
   "outputs": [],
   "source": [
    "all_lyrics = \"\"\n",
    "for filename in lfiles:\n",
    "    f = open(filename, 'r')\n",
    "    \n",
    "    all_lyrics += f.read()"
   ]
  },
  {
   "cell_type": "code",
   "execution_count": 49,
   "metadata": {
    "collapsed": false,
    "scrolled": true
   },
   "outputs": [
    {
     "data": {
      "text/plain": [
       "22909983"
      ]
     },
     "execution_count": 49,
     "metadata": {},
     "output_type": "execute_result"
    }
   ],
   "source": [
    "len(all_lyrics)"
   ]
  },
  {
   "cell_type": "code",
   "execution_count": 50,
   "metadata": {
    "collapsed": true
   },
   "outputs": [],
   "source": [
    "with open(\"ALL/\" + \"input.txt\", \"w\") as text_file:\n",
    "    text_file.write(all_lyrics)"
   ]
  },
  {
   "cell_type": "code",
   "execution_count": 23,
   "metadata": {
    "collapsed": true
   },
   "outputs": [],
   "source": [
    "\n",
    "artist_urls = ['http://genius.com/artists/Ab-soul', \n",
    "               'http://genius.com/artists/Action-bronson',\n",
    "               'http://genius.com/artists/Aesop-rock',\n",
    "               'http://genius.com/artists/Anderson-paak',\n",
    "               'http://genius.com/artists/A-ap-ferg',\n",
    "               'http://genius.com/artists/A-ap-mob',\n",
    "               'http://genius.com/artists/A-ap-rocky',\n",
    "               'http://genius.com/artists/Akon',\n",
    "                'http://genius.com/artists/Apollo-brown',\n",
    "                'http://genius.com/artists/Azizi-gibson',\n",
    "                'http://genius.com/artists/Big-sean',\n",
    "                'http://genius.com/artists/Boosie-badazz',\n",
    "                'http://genius.com/artists/Bet-hip-hop-awards',\n",
    "                'http://genius.com/artists/Busta-rhymes',\n",
    "                'http://genius.com/artists/Chance-the-rapper',\n",
    "                'http://genius.com/artists/Chief-keef',\n",
    "                'http://genius.com/artists/Childish-gambino',\n",
    "                'http://genius.com/artists/Curren-y',\n",
    "               'http://genius.com/artists/Casey-veggies',\n",
    "               'http://genius.com/artists/Denzel-curry',\n",
    "               'http://genius.com/artists/Drake',\n",
    "               'http://genius.com/artists/Drake-and-future',\n",
    "               'http://genius.com/artists/Dr-dre',\n",
    "               'http://genius.com/artists/E-40',\n",
    "               'http://genius.com/artists/Earl-sweatshirt',\n",
    "               'http://genius.com/artists/Eminem',\n",
    "               'http://genius.com/artists/Eazy-e',\n",
    "               'http://genius.com/artists/Fetty-wap',\n",
    "               'http://genius.com/artists/Flatbush-zombies',\n",
    "               'http://genius.com/artists/Freddie-gibbs',\n",
    "               'http://genius.com/artists/Future',\n",
    "               'http://genius.com/artists/Gucci-mane',\n",
    "               'http://genius.com/artists/G-unit',\n",
    "               'http://genius.com/artists/Gza',\n",
    "               'http://genius.com/artists/Iamsu',\n",
    "               'http://genius.com/artists/Ilovemakonnen',\n",
    "               'http://genius.com/artists/Jay-z',\n",
    "               'http://genius.com/artists/Jay-electronica',\n",
    "               'http://genius.com/artists/Joey-bada',\n",
    "               'http://genius.com/artists/Juicy-j',\n",
    "               'http://genius.com/artists/J-dilla',\n",
    "               'http://genius.com/artists/J-kwon',\n",
    "               'http://genius.com/artists/Kanye-west',\n",
    "               'http://genius.com/artists/Kendrick-lamar',\n",
    "               'http://genius.com/artists/Lil-wayne',\n",
    "               'http://genius.com/artists/Logic',\n",
    "               'http://genius.com/artists/Migos',\n",
    "               'http://genius.com/artists/Nas',\n",
    "               'http://genius.com/artists/The-notorious-big',\n",
    "               'http://genius.com/artists/Nwa',\n",
    "               'http://genius.com/artists/Odd-future',\n",
    "               'http://genius.com/artists/Oddisee',\n",
    "               'http://genius.com/artists/Pusha-t',\n",
    "               'http://genius.com/artists/Rae-sremmurd',\n",
    "               'http://genius.com/artists/Rich-homie-quan',\n",
    "               'http://genius.com/artists/Rich-gang',\n",
    "               'http://genius.com/artists/Rick-ross',\n",
    "               'http://genius.com/artists/Rza',\n",
    "               'http://genius.com/artists/Schoolboy-q',\n",
    "               'http://genius.com/artists/Snoop-dogg',\n",
    "               'http://genius.com/artists/Tech-n9ne',\n",
    "               'http://genius.com/artists/Tory-lanez',\n",
    "               'http://genius.com/artists/Ty-dolla-sign',\n",
    "               'http://genius.com/artists/Tyler-the-creator',\n",
    "               'http://genius.com/artists/Tyga',\n",
    "               'http://genius.com/artists/Wiz-khalifa',\n",
    "               'http://genius.com/artists/Wu-tang-clan',\n",
    "               'http://genius.com/artists/Yg',\n",
    "               'http://genius.com/artists/Young-thug']\n"
   ]
  },
  {
   "cell_type": "code",
   "execution_count": 26,
   "metadata": {
    "collapsed": false
   },
   "outputs": [
    {
     "data": {
      "text/plain": [
       "0.2608695652173913"
      ]
     },
     "execution_count": 26,
     "metadata": {},
     "output_type": "execute_result"
    }
   ],
   "source": [
    "18.0/len(artist_urls)"
   ]
  },
  {
   "cell_type": "code",
   "execution_count": null,
   "metadata": {
    "collapsed": true
   },
   "outputs": [],
   "source": []
  }
 ],
 "metadata": {
  "kernelspec": {
   "display_name": "Python 2",
   "language": "python",
   "name": "python2"
  },
  "language_info": {
   "codemirror_mode": {
    "name": "ipython",
    "version": 2
   },
   "file_extension": ".py",
   "mimetype": "text/x-python",
   "name": "python",
   "nbconvert_exporter": "python",
   "pygments_lexer": "ipython2",
   "version": "2.7.11"
  }
 },
 "nbformat": 4,
 "nbformat_minor": 0
}
